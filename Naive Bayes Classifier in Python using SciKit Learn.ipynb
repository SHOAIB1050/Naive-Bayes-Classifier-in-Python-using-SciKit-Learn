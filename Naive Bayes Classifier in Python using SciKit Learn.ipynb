{
 "cells": [
  {
   "cell_type": "markdown",
   "metadata": {},
   "source": [
    "# Naive Bayes Classifier in Python using SciKit Learn"
   ]
  },
  {
   "cell_type": "code",
   "execution_count": 1,
   "metadata": {},
   "outputs": [],
   "source": [
    "# load libaries\n",
    "import numpy as np\n",
    "from sklearn.naive_bayes import GaussianNB\n",
    "from sklearn.model_selection import train_test_split\n",
    "from sklearn import metrics\n",
    "import pandas as pd"
   ]
  },
  {
   "cell_type": "code",
   "execution_count": 3,
   "metadata": {},
   "outputs": [
    {
     "data": {
      "text/html": [
       "<div>\n",
       "<style scoped>\n",
       "    .dataframe tbody tr th:only-of-type {\n",
       "        vertical-align: middle;\n",
       "    }\n",
       "\n",
       "    .dataframe tbody tr th {\n",
       "        vertical-align: top;\n",
       "    }\n",
       "\n",
       "    .dataframe thead th {\n",
       "        text-align: right;\n",
       "    }\n",
       "</style>\n",
       "<table border=\"1\" class=\"dataframe\">\n",
       "  <thead>\n",
       "    <tr style=\"text-align: right;\">\n",
       "      <th></th>\n",
       "      <th>Age</th>\n",
       "      <th>Sex</th>\n",
       "      <th>Chest Pain Location</th>\n",
       "      <th>Blood Pressure</th>\n",
       "      <th>Cholestoral</th>\n",
       "      <th>Fasting Blood Sugar</th>\n",
       "      <th>ResTecg</th>\n",
       "      <th>Thalach</th>\n",
       "      <th>Exang</th>\n",
       "      <th>OldPeak</th>\n",
       "      <th>Slope</th>\n",
       "      <th>CA</th>\n",
       "      <th>Thal</th>\n",
       "      <th>Diagnosis Heart Disease</th>\n",
       "    </tr>\n",
       "  </thead>\n",
       "  <tbody>\n",
       "    <tr>\n",
       "      <th>0</th>\n",
       "      <td>40</td>\n",
       "      <td>1</td>\n",
       "      <td>2</td>\n",
       "      <td>140</td>\n",
       "      <td>289</td>\n",
       "      <td>0</td>\n",
       "      <td>0</td>\n",
       "      <td>172</td>\n",
       "      <td>0</td>\n",
       "      <td>0.0</td>\n",
       "      <td>-9</td>\n",
       "      <td>-9</td>\n",
       "      <td>-9</td>\n",
       "      <td>0</td>\n",
       "    </tr>\n",
       "    <tr>\n",
       "      <th>1</th>\n",
       "      <td>49</td>\n",
       "      <td>0</td>\n",
       "      <td>3</td>\n",
       "      <td>160</td>\n",
       "      <td>180</td>\n",
       "      <td>0</td>\n",
       "      <td>0</td>\n",
       "      <td>156</td>\n",
       "      <td>0</td>\n",
       "      <td>1.0</td>\n",
       "      <td>2</td>\n",
       "      <td>-9</td>\n",
       "      <td>-9</td>\n",
       "      <td>1</td>\n",
       "    </tr>\n",
       "    <tr>\n",
       "      <th>2</th>\n",
       "      <td>37</td>\n",
       "      <td>1</td>\n",
       "      <td>2</td>\n",
       "      <td>130</td>\n",
       "      <td>283</td>\n",
       "      <td>0</td>\n",
       "      <td>1</td>\n",
       "      <td>98</td>\n",
       "      <td>0</td>\n",
       "      <td>0.0</td>\n",
       "      <td>-9</td>\n",
       "      <td>-9</td>\n",
       "      <td>-9</td>\n",
       "      <td>0</td>\n",
       "    </tr>\n",
       "    <tr>\n",
       "      <th>3</th>\n",
       "      <td>48</td>\n",
       "      <td>0</td>\n",
       "      <td>4</td>\n",
       "      <td>138</td>\n",
       "      <td>214</td>\n",
       "      <td>0</td>\n",
       "      <td>0</td>\n",
       "      <td>108</td>\n",
       "      <td>1</td>\n",
       "      <td>1.5</td>\n",
       "      <td>2</td>\n",
       "      <td>-9</td>\n",
       "      <td>-9</td>\n",
       "      <td>3</td>\n",
       "    </tr>\n",
       "    <tr>\n",
       "      <th>4</th>\n",
       "      <td>54</td>\n",
       "      <td>1</td>\n",
       "      <td>3</td>\n",
       "      <td>150</td>\n",
       "      <td>-9</td>\n",
       "      <td>0</td>\n",
       "      <td>0</td>\n",
       "      <td>122</td>\n",
       "      <td>0</td>\n",
       "      <td>0.0</td>\n",
       "      <td>-9</td>\n",
       "      <td>-9</td>\n",
       "      <td>-9</td>\n",
       "      <td>0</td>\n",
       "    </tr>\n",
       "  </tbody>\n",
       "</table>\n",
       "</div>"
      ],
      "text/plain": [
       "   Age  Sex  Chest Pain Location  Blood Pressure  Cholestoral  \\\n",
       "0   40    1                    2             140          289   \n",
       "1   49    0                    3             160          180   \n",
       "2   37    1                    2             130          283   \n",
       "3   48    0                    4             138          214   \n",
       "4   54    1                    3             150           -9   \n",
       "\n",
       "   Fasting Blood Sugar  ResTecg  Thalach   Exang  OldPeak  Slope  CA  Thal  \\\n",
       "0                    0        0      172       0      0.0     -9  -9    -9   \n",
       "1                    0        0      156       0      1.0      2  -9    -9   \n",
       "2                    0        1       98       0      0.0     -9  -9    -9   \n",
       "3                    0        0      108       1      1.5      2  -9    -9   \n",
       "4                    0        0      122       0      0.0     -9  -9    -9   \n",
       "\n",
       "   Diagnosis Heart Disease  \n",
       "0                        0  \n",
       "1                        1  \n",
       "2                        0  \n",
       "3                        3  \n",
       "4                        0  "
      ]
     },
     "execution_count": 3,
     "metadata": {},
     "output_type": "execute_result"
    }
   ],
   "source": [
    "df=pd.read_csv('DATASET.csv',names=['Age','Sex','Chest Pain Location','Blood Pressure','Cholestoral','Fasting Blood Sugar','ResTecg','Thalach',' Exang','OldPeak','Slope','CA','Thal','Diagnosis Heart Disease'])\n",
    "df.head()"
   ]
  },
  {
   "cell_type": "code",
   "execution_count": 4,
   "metadata": {},
   "outputs": [
    {
     "name": "stdout",
     "output_type": "stream",
     "text": [
      "[[40.  1.  2. ... -9. -9.  0.]\n",
      " [49.  0.  3. ... -9. -9.  1.]\n",
      " [37.  1.  2. ... -9. -9.  0.]\n",
      " ...\n",
      " [48.  1.  3. ... -9.  6.  0.]\n",
      " [47.  0.  2. ... -9. -9.  0.]\n",
      " [53.  1.  4. ... -9. -9.  0.]]\n"
     ]
    }
   ],
   "source": [
    "\n",
    "#datagram convert into numpy array\n",
    "sample_data = df.to_numpy()\n",
    "print(sample_data)"
   ]
  },
  {
   "cell_type": "code",
   "execution_count": 5,
   "metadata": {},
   "outputs": [
    {
     "name": "stdout",
     "output_type": "stream",
     "text": [
      "[[40.  1.  2. ... -9. -9. -9.]\n",
      " [49.  0.  3. ...  2. -9. -9.]\n",
      " [37.  1.  2. ... -9. -9. -9.]\n",
      " ...\n",
      " [48.  1.  3. ... -9. -9.  6.]\n",
      " [47.  0.  2. ...  1. -9. -9.]\n",
      " [53.  1.  4. ... -9. -9. -9.]]\n"
     ]
    }
   ],
   "source": [
    "# Feature Variables \n",
    "features = sample_data[:,0:-1].astype('float')\n",
    "print(features)"
   ]
  },
  {
   "cell_type": "code",
   "execution_count": null,
   "metadata": {},
   "outputs": [],
   "source": []
  },
  {
   "cell_type": "code",
   "execution_count": 6,
   "metadata": {},
   "outputs": [
    {
     "name": "stdout",
     "output_type": "stream",
     "text": [
      "[0. 1. 0. 3. 0. 0. 0. 0. 1. 0. 0. 3. 0. 3. 0. 0. 1. 0. 1. 1. 0. 0. 0. 3.\n",
      " 0. 0. 0. 0. 0. 0. 3. 0. 1. 3. 0. 0. 1. 0. 0. 0. 0. 4. 0. 0. 3. 0. 0. 0.\n",
      " 0. 1. 2. 4. 0. 0. 0. 0. 1. 1. 0. 3. 0. 0. 0. 1. 0. 0. 0. 0. 3. 0. 1. 0.\n",
      " 2. 0. 2. 0. 2. 0. 0. 1. 0. 0. 1. 0. 2. 3. 3. 0. 2. 0. 0. 0. 0. 2. 0. 2.\n",
      " 0. 0. 0. 0. 4. 0. 2. 1. 1. 0. 0. 0. 0. 0. 0. 2. 0. 0. 0. 1. 1. 1. 0. 1.\n",
      " 3. 0. 0. 4. 0. 0. 0. 0. 0. 0. 0. 1. 3. 3. 0. 1. 0. 0. 2. 1. 4. 4. 4. 0.\n",
      " 3. 0. 0. 0. 0. 2. 0. 0. 0. 0. 0. 4. 2. 0. 3. 0. 3. 4. 0. 0. 0. 0. 3. 4.\n",
      " 0. 0. 0. 0. 0. 0. 0. 4. 4. 3. 0. 0. 0. 1. 0. 3. 0. 0. 2. 0. 1. 0. 3. 0.\n",
      " 0. 0. 0. 0. 0. 0. 0. 2. 0. 0. 0. 0. 0. 0. 0. 0. 1. 0. 1. 1. 1. 0. 0. 1.\n",
      " 0. 2. 0. 0. 0. 2. 1. 0. 0. 0. 1. 0. 1. 0. 0. 0. 0. 0. 0. 0. 0. 4. 3. 2.\n",
      " 2. 0. 2. 3. 0. 1. 0. 2. 2. 2. 3. 4. 1. 0. 0. 3. 0. 0. 0. 0. 0. 0. 0. 2.\n",
      " 3. 1. 0. 3. 0. 2. 0. 0. 0. 1. 0. 0. 0. 3. 2. 0. 0. 0. 4. 0. 0. 0. 0. 0.\n",
      " 0. 0. 0. 0. 0. 0.]\n"
     ]
    }
   ],
   "source": [
    "# Target/Dependent Variable - Gender\n",
    "target = sample_data[:,-1]\n",
    "print(target)"
   ]
  },
  {
   "cell_type": "code",
   "execution_count": 8,
   "metadata": {},
   "outputs": [],
   "source": [
    "# Split dataset into training set and test set\n",
    "X_train, X_test, y_train, y_test = train_test_split(features,target, test_size=0.2,random_state=110) # 70% training and 30% test"
   ]
  },
  {
   "cell_type": "code",
   "execution_count": 10,
   "metadata": {},
   "outputs": [],
   "source": [
    "# Train the Model\n",
    "model = GaussianNB()\n",
    "fittedModel = model.fit(X_train, y_train)"
   ]
  },
  {
   "cell_type": "code",
   "execution_count": 11,
   "metadata": {},
   "outputs": [
    {
     "name": "stdout",
     "output_type": "stream",
     "text": [
      "[3. 3. 2. 2. 0. 0. 2. 0. 1. 2. 3. 0. 2. 0. 2. 3. 3. 3. 0. 0. 3. 2. 3. 0.\n",
      " 3. 4. 3. 4. 0. 2. 4. 1. 3. 0. 0. 4. 0. 2. 0. 0. 0. 0. 3. 0. 4. 0. 0. 4.\n",
      " 2. 2. 1. 2. 2. 2. 2. 0. 4. 0. 2.]\n"
     ]
    }
   ],
   "source": [
    "# Predict Disease\n",
    "y_pred = fittedModel.predict(X_test)\n",
    "print(y_pred)"
   ]
  },
  {
   "cell_type": "code",
   "execution_count": 12,
   "metadata": {},
   "outputs": [
    {
     "name": "stdout",
     "output_type": "stream",
     "text": [
      "Accuracy: 42.0 %\n"
     ]
    }
   ],
   "source": [
    "print(\"Accuracy:\",round(metrics.accuracy_score(y_test, y_pred)*100),'%')"
   ]
  },
  {
   "cell_type": "code",
   "execution_count": null,
   "metadata": {},
   "outputs": [],
   "source": []
  },
  {
   "cell_type": "code",
   "execution_count": null,
   "metadata": {},
   "outputs": [],
   "source": []
  }
 ],
 "metadata": {
  "kernelspec": {
   "display_name": "Python 3",
   "language": "python",
   "name": "python3"
  },
  "language_info": {
   "codemirror_mode": {
    "name": "ipython",
    "version": 3
   },
   "file_extension": ".py",
   "mimetype": "text/x-python",
   "name": "python",
   "nbconvert_exporter": "python",
   "pygments_lexer": "ipython3",
   "version": "3.7.6"
  }
 },
 "nbformat": 4,
 "nbformat_minor": 2
}
